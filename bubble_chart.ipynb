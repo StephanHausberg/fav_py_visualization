{
 "cells": [
  {
   "cell_type": "markdown",
   "id": "8d2ee0a7-e6d3-4708-8f6b-1c7cf3f63b5c",
   "metadata": {},
   "source": [
    "# Bubble Chart Visualization\n",
    "\n",
    "<div>\n",
    "<img src=\"bubble_chart_screenshot.png\" width=\"500\" align=\"left\"/>\n",
    "</div>\n",
    "<br><bR><bR><br><bR><bR><br><bR><bR><br><bR><bR><br><bR><bR><br><bR><bR>\n",
    "\n",
    "## A visualization approach for the transition from eduction to employment to unemployment and back again\n",
    "\n",
    "This graph visualization technique was published on <A HREF=\"https://d3blocks.github.io/d3blocks/pages/html/MovingBubbles.html\">D3 Blocks - Moving Bubbles</A>. A classical dataset is the \"day of the Americans\" where you basically see a particle number that represents at what time Americans do specific things like sleep, eat, sports, etc.\n",
    "    \n",
    "Here, I wanted to create this for myself and though that I would create a dataset about eduction, employment and unemployment for myself. That is why I simply took 500 rows that specifically described the movement of any \"particle\" in a time-dependent way. This notebook shows how this looks like in the end.\n",
    "\n",
    "## Prerequisites\n",
    "\n",
    "The following notebook requires the following packages:\n",
    "- Python 3\n",
    "- Pandas for construction of a dataframe object\n",
    "- D3Blocks\n",
    "\n",
    "## Licenses & Author\n",
    "\n",
    "The original package was published under OSI license. The maintaining authors are Erdogan Taskesen and Oliver Verver. Here, I took this particular part of code and modified it slightly. My name is Stephan Hausberg, feel free to reach out to me.\n",
    "<div>\n",
    "<img src=\"logo_sh_transparent.gif\" width=\"100\" align=\"right\"/>\n",
    "</div>\n",
    "<br><br>\n",
    "\n",
    "## Installation requirements\n",
    "\n",
    "We began by installing D3Blocks which holds the required function that constructs a html-file in the end."
   ]
  },
  {
   "cell_type": "code",
   "execution_count": null,
   "id": "e6321c05-8613-461f-8393-3ad888c40da4",
   "metadata": {},
   "outputs": [],
   "source": [
    "!pip install D3Blocks"
   ]
  },
  {
   "cell_type": "markdown",
   "id": "33a9143a-c4c2-42ed-9656-d4184b7bc413",
   "metadata": {},
   "source": [
    "## Create a moving bubble chart\n",
    "\n",
    "First, we load data we created by ourselves stored in \"bubble_graph_data.csv\". We remark that the column where the date was stored has to be transformed into a correct datetime format to make it acessible for the package to read such that it doesn't throw an error."
   ]
  },
  {
   "cell_type": "code",
   "execution_count": 4,
   "id": "f76d3766-fcae-4452-bf24-6bff82b44975",
   "metadata": {},
   "outputs": [],
   "source": [
    "import pandas as pd\n",
    "df_main = pd.read_csv(\"bubble_graph_data.csv\", sep = \";\")\n",
    "\n",
    "df_main.datetime = pd.to_datetime(df_main.datetime, format=\"%d.%m.%Y %H:%M\")"
   ]
  },
  {
   "cell_type": "markdown",
   "id": "c2c2ea15-d903-49c5-b631-e104833b7906",
   "metadata": {},
   "source": [
    "With this at hand we are able to create such a html-file which holds the corresponding moving bubble. Check it out."
   ]
  },
  {
   "cell_type": "code",
   "execution_count": 16,
   "id": "1be3afab-b862-4e62-bbbd-0aa00e8d5837",
   "metadata": {},
   "outputs": [],
   "source": [
    "from d3blocks import D3Blocks\n",
    "\n",
    "d3 = D3Blocks()\n",
    "\n",
    "d3.movingbubbles(df_main, speed={\"slow\": 100,\n",
    "                                 \"medium\": 50,\n",
    "                                 \"fast\": 10}, filepath='bubble_chart_example.html')"
   ]
  },
  {
   "cell_type": "markdown",
   "id": "c6324914-e7a7-4c0f-829f-17d3b7dd36d8",
   "metadata": {},
   "source": [
    "## Conclusion\n",
    "\n",
    "For cyclic, time-dependent data this could be a very effectful way of presenting data. In this directory you will find the data source as well as the corresponding output, <A HREF=\"bubble_chart_example.html\">example file</A>."
   ]
  }
 ],
 "metadata": {
  "kernelspec": {
   "display_name": "Python 3 (ipykernel)",
   "language": "python",
   "name": "python3"
  },
  "language_info": {
   "codemirror_mode": {
    "name": "ipython",
    "version": 3
   },
   "file_extension": ".py",
   "mimetype": "text/x-python",
   "name": "python",
   "nbconvert_exporter": "python",
   "pygments_lexer": "ipython3",
   "version": "3.9.7"
  }
 },
 "nbformat": 4,
 "nbformat_minor": 5
}
